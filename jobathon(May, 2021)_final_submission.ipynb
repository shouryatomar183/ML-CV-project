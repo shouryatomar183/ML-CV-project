{
 "cells": [
  {
   "cell_type": "markdown",
   "metadata": {},
   "source": [
    "# Problem Statement\n",
    "## Credit Card Lead Prediction\n",
    "Happy Customer Bank is a mid-sized private bank that deals in all kinds of banking products, like Savings accounts, Current accounts, investment products, credit products, among other offerings.\n",
    "\n",
    "\n",
    "\n",
    "The bank also cross-sells products to its existing customers and to do so they use different kinds of communication like tele-calling, e-mails, recommendations on net banking, mobile banking, etc. \n",
    "\n",
    "\n",
    "\n",
    "In this case, the Happy Customer Bank wants to cross sell its credit cards to its existing customers. The bank has identified a set of customers that are eligible for taking these credit cards.\n",
    "\n",
    "\n",
    "\n",
    "Now, the bank is looking for your help in identifying customers that could show higher intent towards a recommended credit card, given:\n",
    "\n",
    "Customer details (gender, age, region etc.)\n",
    "Details of his/her relationship with the bank (Channel_Code,Vintage, 'Avg_Asset_Value etc.)"
   ]
  },
  {
   "cell_type": "markdown",
   "metadata": {},
   "source": [
    "# Data Description \n",
    "\n",
    "ID: Unique Identifier for a row\n",
    "\n",
    "Gender: Gender of the Customer\n",
    "\n",
    "Age: Age of the Customer (in Years)\n",
    "\n",
    "Region_Code: Code of the Region for the customers\n",
    "\n",
    "Occupation: Occupation Type for the customer\n",
    "\n",
    "Channel_Code: Acquisition Channel Code for the Customer  (Encoded)\n",
    "\n",
    "Vintage: Vintage for the Customer (In Months)\n",
    "\n",
    "Credit_Product: If the Customer has any active credit product (Home loan,Personal loan,Credit Card etc.)\n",
    "\n",
    "Avg_Account_Balance: Average Account Balance for the Customer in last 12 Months\n",
    "\n",
    "Is_Active: If the Customer is Active in last 3 Months\n",
    "\n",
    "Is_Lead(Target): if the customer is intrested in the credit card\n",
    "\n",
    "0 : Customer is not interested\n",
    "\n",
    "1 : Customer is interested"
   ]
  },
  {
   "cell_type": "markdown",
   "metadata": {},
   "source": [
    "# Expected Outcome\n",
    "the predicted probabilities of Response(Is_Lead) for the customers"
   ]
  },
  {
   "cell_type": "code",
   "execution_count": 1,
   "metadata": {},
   "outputs": [],
   "source": [
    "# General\n",
    "import pandas as pd\n",
    "pd.set_option('display.max_columns', None)\n",
    "import numpy as np\n",
    "import os\n",
    "from functools import partial\n",
    "from scipy.optimize import fmin as scip_fmin\n",
    "from tqdm import tqdm\n",
    "import statistics\n",
    "import tempfile"
   ]
  },
  {
   "cell_type": "code",
   "execution_count": 2,
   "metadata": {},
   "outputs": [],
   "source": [
    "#!pip install delayed"
   ]
  },
  {
   "cell_type": "code",
   "execution_count": 3,
   "metadata": {},
   "outputs": [],
   "source": [
    "# Machine Learning\n",
    "# Utils\n",
    "from sklearn.model_selection import StratifiedKFold, cross_validate, cross_val_score, train_test_split, KFold\n",
    "from sklearn import preprocessing\n",
    "import category_encoders as ce\n",
    "from imblearn.pipeline import Pipeline as imb_pipe\n",
    "from imblearn.over_sampling import SMOTE\n",
    "from imblearn.over_sampling import RandomOverSampler\n",
    "from imblearn.under_sampling import RandomUnderSampler\n",
    "from sklearn import impute\n",
    "from sklearn import pipeline\n",
    "from sklearn.preprocessing import StandardScaler\n",
    "from sklearn import base"
   ]
  },
  {
   "cell_type": "code",
   "execution_count": 4,
   "metadata": {},
   "outputs": [],
   "source": [
    "#Feature Selection\n",
    "from sklearn.feature_selection import chi2, f_classif, f_regression, mutual_info_classif, mutual_info_regression, SelectKBest, SelectPercentile, VarianceThreshold\n",
    "from sklearn.decomposition import TruncatedSVD"
   ]
  },
  {
   "cell_type": "code",
   "execution_count": 5,
   "metadata": {},
   "outputs": [],
   "source": [
    "#!pip install imblearn"
   ]
  },
  {
   "cell_type": "code",
   "execution_count": 6,
   "metadata": {},
   "outputs": [],
   "source": [
    "#!pip install category_encoders"
   ]
  },
  {
   "cell_type": "code",
   "execution_count": 7,
   "metadata": {},
   "outputs": [],
   "source": [
    "import warnings\n",
    "import sklearn.exceptions\n",
    "warnings.filterwarnings('ignore', category=DeprecationWarning)\n",
    "warnings.filterwarnings('ignore', category=FutureWarning)\n",
    "warnings.filterwarnings(\"ignore\", category=sklearn.exceptions.UndefinedMetricWarning)\n",
    "warnings.filterwarnings('ignore', category=UserWarning)"
   ]
  },
  {
   "cell_type": "code",
   "execution_count": 8,
   "metadata": {},
   "outputs": [],
   "source": [
    "import matplotlib as mpl\n",
    "import matplotlib.pyplot as plt\n",
    "%matplotlib inline\n",
    "import seaborn as sns\n",
    "sns.set(style=\"whitegrid\")\n",
    "from PIL import Image"
   ]
  },
  {
   "cell_type": "code",
   "execution_count": 9,
   "metadata": {},
   "outputs": [],
   "source": [
    "# Models\n",
    "from sklearn.naive_bayes import MultinomialNB\n",
    "from sklearn.linear_model import LogisticRegression\n",
    "from sklearn.neighbors import KNeighborsClassifier\n",
    "from sklearn.svm import SVC\n",
    "from sklearn.ensemble import RandomForestClassifier\n",
    "import xgboost as xgb\n",
    "from lightgbm import LGBMClassifier\n",
    "from catboost import CatBoostClassifier\n",
    "from imblearn.ensemble import EasyEnsembleClassifier\n",
    "from imblearn.ensemble import BalancedRandomForestClassifier"
   ]
  },
  {
   "cell_type": "code",
   "execution_count": 10,
   "metadata": {},
   "outputs": [
    {
     "name": "stdout",
     "output_type": "stream",
     "text": [
      "Requirement already satisfied: lightgbm in c:\\users\\shourya tomar\\anaconda3\\lib\\site-packages (3.2.1)\n",
      "Requirement already satisfied: scipy in c:\\users\\shourya tomar\\anaconda3\\lib\\site-packages (from lightgbm) (1.5.2)\n",
      "Requirement already satisfied: scikit-learn!=0.22.0 in c:\\users\\shourya tomar\\anaconda3\\lib\\site-packages (from lightgbm) (0.24.2)\n",
      "Requirement already satisfied: numpy in c:\\users\\shourya tomar\\anaconda3\\lib\\site-packages (from lightgbm) (1.19.2)\n",
      "Requirement already satisfied: wheel in c:\\users\\shourya tomar\\anaconda3\\lib\\site-packages (from lightgbm) (0.35.1)\n",
      "Requirement already satisfied: threadpoolctl>=2.0.0 in c:\\users\\shourya tomar\\anaconda3\\lib\\site-packages (from scikit-learn!=0.22.0->lightgbm) (2.1.0)\n",
      "Requirement already satisfied: joblib>=0.11 in c:\\users\\shourya tomar\\anaconda3\\lib\\site-packages (from scikit-learn!=0.22.0->lightgbm) (0.17.0)\n"
     ]
    }
   ],
   "source": [
    "#!pip install lightgbm"
   ]
  },
  {
   "cell_type": "code",
   "execution_count": 11,
   "metadata": {},
   "outputs": [],
   "source": [
    "#Metrics\n",
    "from sklearn.metrics import confusion_matrix, classification_report, roc_auc_score"
   ]
  },
  {
   "cell_type": "code",
   "execution_count": 12,
   "metadata": {},
   "outputs": [],
   "source": [
    "#!pip install xgboost"
   ]
  },
  {
   "cell_type": "code",
   "execution_count": 13,
   "metadata": {},
   "outputs": [],
   "source": [
    "#!pip install catboost"
   ]
  },
  {
   "cell_type": "code",
   "execution_count": 15,
   "metadata": {},
   "outputs": [],
   "source": [
    "train = pd.read_csv('train_1.csv')\n",
    "test = pd.read_csv('test_1.csv')"
   ]
  },
  {
   "cell_type": "code",
   "execution_count": 16,
   "metadata": {},
   "outputs": [
    {
     "data": {
      "text/html": [
       "<div>\n",
       "<style scoped>\n",
       "    .dataframe tbody tr th:only-of-type {\n",
       "        vertical-align: middle;\n",
       "    }\n",
       "\n",
       "    .dataframe tbody tr th {\n",
       "        vertical-align: top;\n",
       "    }\n",
       "\n",
       "    .dataframe thead th {\n",
       "        text-align: right;\n",
       "    }\n",
       "</style>\n",
       "<table border=\"1\" class=\"dataframe\">\n",
       "  <thead>\n",
       "    <tr style=\"text-align: right;\">\n",
       "      <th></th>\n",
       "      <th>ID</th>\n",
       "      <th>Gender</th>\n",
       "      <th>Age</th>\n",
       "      <th>Region_Code</th>\n",
       "      <th>Occupation</th>\n",
       "      <th>Channel_Code</th>\n",
       "      <th>Vintage</th>\n",
       "      <th>Credit_Product</th>\n",
       "      <th>Avg_Account_Balance</th>\n",
       "      <th>Is_Active</th>\n",
       "      <th>Is_Lead</th>\n",
       "    </tr>\n",
       "  </thead>\n",
       "  <tbody>\n",
       "    <tr>\n",
       "      <th>0</th>\n",
       "      <td>NNVBBKZB</td>\n",
       "      <td>Female</td>\n",
       "      <td>73</td>\n",
       "      <td>RG268</td>\n",
       "      <td>Other</td>\n",
       "      <td>X3</td>\n",
       "      <td>43</td>\n",
       "      <td>No</td>\n",
       "      <td>1045696</td>\n",
       "      <td>No</td>\n",
       "      <td>0</td>\n",
       "    </tr>\n",
       "    <tr>\n",
       "      <th>1</th>\n",
       "      <td>IDD62UNG</td>\n",
       "      <td>Female</td>\n",
       "      <td>30</td>\n",
       "      <td>RG277</td>\n",
       "      <td>Salaried</td>\n",
       "      <td>X1</td>\n",
       "      <td>32</td>\n",
       "      <td>No</td>\n",
       "      <td>581988</td>\n",
       "      <td>No</td>\n",
       "      <td>0</td>\n",
       "    </tr>\n",
       "    <tr>\n",
       "      <th>2</th>\n",
       "      <td>HD3DSEMC</td>\n",
       "      <td>Female</td>\n",
       "      <td>56</td>\n",
       "      <td>RG268</td>\n",
       "      <td>Self_Employed</td>\n",
       "      <td>X3</td>\n",
       "      <td>26</td>\n",
       "      <td>No</td>\n",
       "      <td>1484315</td>\n",
       "      <td>Yes</td>\n",
       "      <td>0</td>\n",
       "    </tr>\n",
       "    <tr>\n",
       "      <th>3</th>\n",
       "      <td>BF3NC7KV</td>\n",
       "      <td>Male</td>\n",
       "      <td>34</td>\n",
       "      <td>RG270</td>\n",
       "      <td>Salaried</td>\n",
       "      <td>X1</td>\n",
       "      <td>19</td>\n",
       "      <td>No</td>\n",
       "      <td>470454</td>\n",
       "      <td>No</td>\n",
       "      <td>0</td>\n",
       "    </tr>\n",
       "    <tr>\n",
       "      <th>4</th>\n",
       "      <td>TEASRWXV</td>\n",
       "      <td>Female</td>\n",
       "      <td>30</td>\n",
       "      <td>RG282</td>\n",
       "      <td>Salaried</td>\n",
       "      <td>X1</td>\n",
       "      <td>33</td>\n",
       "      <td>No</td>\n",
       "      <td>886787</td>\n",
       "      <td>No</td>\n",
       "      <td>0</td>\n",
       "    </tr>\n",
       "  </tbody>\n",
       "</table>\n",
       "</div>"
      ],
      "text/plain": [
       "         ID  Gender  Age Region_Code     Occupation Channel_Code  Vintage  \\\n",
       "0  NNVBBKZB  Female   73       RG268          Other           X3       43   \n",
       "1  IDD62UNG  Female   30       RG277       Salaried           X1       32   \n",
       "2  HD3DSEMC  Female   56       RG268  Self_Employed           X3       26   \n",
       "3  BF3NC7KV    Male   34       RG270       Salaried           X1       19   \n",
       "4  TEASRWXV  Female   30       RG282       Salaried           X1       33   \n",
       "\n",
       "  Credit_Product  Avg_Account_Balance Is_Active  Is_Lead  \n",
       "0             No              1045696        No        0  \n",
       "1             No               581988        No        0  \n",
       "2             No              1484315       Yes        0  \n",
       "3             No               470454        No        0  \n",
       "4             No               886787        No        0  "
      ]
     },
     "execution_count": 16,
     "metadata": {},
     "output_type": "execute_result"
    }
   ],
   "source": [
    "train.head()"
   ]
  },
  {
   "cell_type": "code",
   "execution_count": 17,
   "metadata": {},
   "outputs": [
    {
     "name": "stdout",
     "output_type": "stream",
     "text": [
      "<class 'pandas.core.frame.DataFrame'>\n",
      "RangeIndex: 245725 entries, 0 to 245724\n",
      "Data columns (total 11 columns):\n",
      " #   Column               Non-Null Count   Dtype \n",
      "---  ------               --------------   ----- \n",
      " 0   ID                   245725 non-null  object\n",
      " 1   Gender               245725 non-null  object\n",
      " 2   Age                  245725 non-null  int64 \n",
      " 3   Region_Code          245725 non-null  object\n",
      " 4   Occupation           245725 non-null  object\n",
      " 5   Channel_Code         245725 non-null  object\n",
      " 6   Vintage              245725 non-null  int64 \n",
      " 7   Credit_Product       216400 non-null  object\n",
      " 8   Avg_Account_Balance  245725 non-null  int64 \n",
      " 9   Is_Active            245725 non-null  object\n",
      " 10  Is_Lead              245725 non-null  int64 \n",
      "dtypes: int64(4), object(7)\n",
      "memory usage: 20.6+ MB\n"
     ]
    }
   ],
   "source": [
    "train.info()"
   ]
  },
  {
   "cell_type": "code",
   "execution_count": 18,
   "metadata": {},
   "outputs": [
    {
     "data": {
      "text/html": [
       "<div>\n",
       "<style scoped>\n",
       "    .dataframe tbody tr th:only-of-type {\n",
       "        vertical-align: middle;\n",
       "    }\n",
       "\n",
       "    .dataframe tbody tr th {\n",
       "        vertical-align: top;\n",
       "    }\n",
       "\n",
       "    .dataframe thead th {\n",
       "        text-align: right;\n",
       "    }\n",
       "</style>\n",
       "<table border=\"1\" class=\"dataframe\">\n",
       "  <thead>\n",
       "    <tr style=\"text-align: right;\">\n",
       "      <th></th>\n",
       "      <th>ID</th>\n",
       "      <th>Gender</th>\n",
       "      <th>Age</th>\n",
       "      <th>Region_Code</th>\n",
       "      <th>Occupation</th>\n",
       "      <th>Channel_Code</th>\n",
       "      <th>Vintage</th>\n",
       "      <th>Credit_Product</th>\n",
       "      <th>Avg_Account_Balance</th>\n",
       "      <th>Is_Active</th>\n",
       "    </tr>\n",
       "  </thead>\n",
       "  <tbody>\n",
       "    <tr>\n",
       "      <th>0</th>\n",
       "      <td>VBENBARO</td>\n",
       "      <td>Male</td>\n",
       "      <td>29</td>\n",
       "      <td>RG254</td>\n",
       "      <td>Other</td>\n",
       "      <td>X1</td>\n",
       "      <td>25</td>\n",
       "      <td>Yes</td>\n",
       "      <td>742366</td>\n",
       "      <td>No</td>\n",
       "    </tr>\n",
       "    <tr>\n",
       "      <th>1</th>\n",
       "      <td>CCMEWNKY</td>\n",
       "      <td>Male</td>\n",
       "      <td>43</td>\n",
       "      <td>RG268</td>\n",
       "      <td>Other</td>\n",
       "      <td>X2</td>\n",
       "      <td>49</td>\n",
       "      <td>NaN</td>\n",
       "      <td>925537</td>\n",
       "      <td>No</td>\n",
       "    </tr>\n",
       "    <tr>\n",
       "      <th>2</th>\n",
       "      <td>VK3KGA9M</td>\n",
       "      <td>Male</td>\n",
       "      <td>31</td>\n",
       "      <td>RG270</td>\n",
       "      <td>Salaried</td>\n",
       "      <td>X1</td>\n",
       "      <td>14</td>\n",
       "      <td>No</td>\n",
       "      <td>215949</td>\n",
       "      <td>No</td>\n",
       "    </tr>\n",
       "    <tr>\n",
       "      <th>3</th>\n",
       "      <td>TT8RPZVC</td>\n",
       "      <td>Male</td>\n",
       "      <td>29</td>\n",
       "      <td>RG272</td>\n",
       "      <td>Other</td>\n",
       "      <td>X1</td>\n",
       "      <td>33</td>\n",
       "      <td>No</td>\n",
       "      <td>868070</td>\n",
       "      <td>No</td>\n",
       "    </tr>\n",
       "    <tr>\n",
       "      <th>4</th>\n",
       "      <td>SHQZEYTZ</td>\n",
       "      <td>Female</td>\n",
       "      <td>29</td>\n",
       "      <td>RG270</td>\n",
       "      <td>Other</td>\n",
       "      <td>X1</td>\n",
       "      <td>19</td>\n",
       "      <td>No</td>\n",
       "      <td>657087</td>\n",
       "      <td>No</td>\n",
       "    </tr>\n",
       "  </tbody>\n",
       "</table>\n",
       "</div>"
      ],
      "text/plain": [
       "         ID  Gender  Age Region_Code Occupation Channel_Code  Vintage  \\\n",
       "0  VBENBARO    Male   29       RG254      Other           X1       25   \n",
       "1  CCMEWNKY    Male   43       RG268      Other           X2       49   \n",
       "2  VK3KGA9M    Male   31       RG270   Salaried           X1       14   \n",
       "3  TT8RPZVC    Male   29       RG272      Other           X1       33   \n",
       "4  SHQZEYTZ  Female   29       RG270      Other           X1       19   \n",
       "\n",
       "  Credit_Product  Avg_Account_Balance Is_Active  \n",
       "0            Yes               742366        No  \n",
       "1            NaN               925537        No  \n",
       "2             No               215949        No  \n",
       "3             No               868070        No  \n",
       "4             No               657087        No  "
      ]
     },
     "execution_count": 18,
     "metadata": {},
     "output_type": "execute_result"
    }
   ],
   "source": [
    "test.head()"
   ]
  },
  {
   "cell_type": "code",
   "execution_count": 19,
   "metadata": {},
   "outputs": [
    {
     "name": "stdout",
     "output_type": "stream",
     "text": [
      "<class 'pandas.core.frame.DataFrame'>\n",
      "RangeIndex: 105312 entries, 0 to 105311\n",
      "Data columns (total 10 columns):\n",
      " #   Column               Non-Null Count   Dtype \n",
      "---  ------               --------------   ----- \n",
      " 0   ID                   105312 non-null  object\n",
      " 1   Gender               105312 non-null  object\n",
      " 2   Age                  105312 non-null  int64 \n",
      " 3   Region_Code          105312 non-null  object\n",
      " 4   Occupation           105312 non-null  object\n",
      " 5   Channel_Code         105312 non-null  object\n",
      " 6   Vintage              105312 non-null  int64 \n",
      " 7   Credit_Product       92790 non-null   object\n",
      " 8   Avg_Account_Balance  105312 non-null  int64 \n",
      " 9   Is_Active            105312 non-null  object\n",
      "dtypes: int64(3), object(7)\n",
      "memory usage: 8.0+ MB\n"
     ]
    }
   ],
   "source": [
    "test.info()"
   ]
  },
  {
   "cell_type": "markdown",
   "metadata": {},
   "source": [
    "#### 1. Null Values\n",
    "We can see that there are some Null values in some columns. Which is not good for data ingestion into any model, so let's see the Null situation upfront:-"
   ]
  },
  {
   "cell_type": "code",
   "execution_count": 20,
   "metadata": {},
   "outputs": [
    {
     "data": {
      "image/png": "[encoded data removed]",
      "text/plain": [
       "<Figure size 864x432 with 1 Axes>"
      ]
     },
     "metadata": {},
     "output_type": "display_data"
    },
    {
     "name": "stdout",
     "output_type": "stream",
     "text": [
      "There are 1 features with missing values in the training data.\n",
      "Columns containing nulls are: ['Credit_Product']\n"
     ]
    }
   ],
   "source": [
    "nulls_train = np.sum(train.isnull())\n",
    "nullcols_train = nulls_train.loc[(nulls_train != 0)].sort_values(ascending=False)\n",
    "\n",
    "barplot_dim = (12, 6)\n",
    "ax = plt.subplots(figsize=barplot_dim)\n",
    "sns.barplot(x=nullcols_train.index, y=nullcols_train)\n",
    "plt.ylabel(\"Null Count\", size=20);\n",
    "plt.xlabel(\"Feature Name\", size=20);\n",
    "plt.show()\n",
    "print('There are', len(nullcols_train), 'features with missing values in the training data.')\n",
    "print(f'Columns containing nulls are: {list(nullcols_train.index)}')"
   ]
  },
  {
   "cell_type": "code",
   "execution_count": 21,
   "metadata": {},
   "outputs": [
    {
     "data": {
      "image/png": "[encoded data removed]",
      "text/plain": [
       "<Figure size 864x432 with 1 Axes>"
      ]
     },
     "metadata": {},
     "output_type": "display_data"
    }
   ],
   "source": [
    "nulls_train = np.sum(train.isnull())\n",
    "nullcols_train = nulls_train.loc[(nulls_train != 0)].sort_values(ascending=False)\n",
    "nullcols_train = nullcols_train.apply(lambda x: 100*x/train.shape[0])\n",
    "\n",
    "barplot_dim = (12, 6)\n",
    "ax = plt.subplots(figsize=barplot_dim)\n",
    "sns.barplot(x=nullcols_train.index, y=nullcols_train)\n",
    "plt.ylabel(\"Null %\", size=20);\n",
    "plt.xlabel(\"Feature Name\", size=20);\n",
    "plt.show()"
   ]
  },
  {
   "cell_type": "code",
   "execution_count": 22,
   "metadata": {},
   "outputs": [
    {
     "data": {
      "image/png": "[encoded data removed]",
      "text/plain": [
       "<Figure size 864x432 with 1 Axes>"
      ]
     },
     "metadata": {},
     "output_type": "display_data"
    },
    {
     "name": "stdout",
     "output_type": "stream",
     "text": [
      "There are 1 features with missing values in the test data.\n",
      "Columns containing nulls are: ['Credit_Product']\n"
     ]
    }
   ],
   "source": [
    "nulls_train = np.sum(test.isnull())\n",
    "nullcols_train = nulls_train.loc[(nulls_train != 0)].sort_values(ascending=False)\n",
    "\n",
    "barplot_dim = (12, 6)\n",
    "ax = plt.subplots(figsize=barplot_dim)\n",
    "sns.barplot(x=nullcols_train.index, y=nullcols_train)\n",
    "plt.ylabel(\"Null Count\", size=20);\n",
    "plt.xlabel(\"Feature Name\", size=20);\n",
    "plt.show()\n",
    "print('There are', len(nullcols_train), 'features with missing values in the test data.')\n",
    "print(f'Columns containing nulls are: {list(nullcols_train.index)}')"
   ]
  },
  {
   "cell_type": "code",
   "execution_count": 23,
   "metadata": {},
   "outputs": [
    {
     "data": {
      "image/png": "[encoded data removed]",
      "text/plain": [
       "<Figure size 864x432 with 1 Axes>"
      ]
     },
     "metadata": {},
     "output_type": "display_data"
    }
   ],
   "source": [
    "nulls_train = np.sum(test.isnull())\n",
    "nullcols_train = nulls_train.loc[(nulls_train != 0)].sort_values(ascending=False)\n",
    "nullcols_train = nullcols_train.apply(lambda x: 100*x/test.shape[0])\n",
    "\n",
    "barplot_dim = (12, 6)\n",
    "ax = plt.subplots(figsize=barplot_dim)\n",
    "sns.barplot(x=nullcols_train.index, y=nullcols_train)\n",
    "plt.ylabel(\"Null %\", size=20);\n",
    "plt.xlabel(\"Feature Name\", size=20);\n",
    "plt.show()"
   ]
  },
  {
   "cell_type": "markdown",
   "metadata": {},
   "source": [
    "    So, we replace missing value with the mode because it's a categorical feature \n",
    "    "
   ]
  },
  {
   "cell_type": "code",
   "execution_count": 24,
   "metadata": {},
   "outputs": [],
   "source": [
    "train.Credit_Product.fillna('No',inplace=True)\n",
    "test.Credit_Product.fillna('No',inplace=True)"
   ]
  },
  {
   "cell_type": "code",
   "execution_count": 25,
   "metadata": {},
   "outputs": [
    {
     "data": {
      "text/plain": [
       "ID                     0\n",
       "Gender                 0\n",
       "Age                    0\n",
       "Region_Code            0\n",
       "Occupation             0\n",
       "Channel_Code           0\n",
       "Vintage                0\n",
       "Credit_Product         0\n",
       "Avg_Account_Balance    0\n",
       "Is_Active              0\n",
       "Is_Lead                0\n",
       "dtype: int64"
      ]
     },
     "execution_count": 25,
     "metadata": {},
     "output_type": "execute_result"
    }
   ],
   "source": [
    "np.sum(train.isnull())"
   ]
  },
  {
   "cell_type": "code",
   "execution_count": 26,
   "metadata": {},
   "outputs": [
    {
     "data": {
      "text/plain": [
       "ID                     0\n",
       "Gender                 0\n",
       "Age                    0\n",
       "Region_Code            0\n",
       "Occupation             0\n",
       "Channel_Code           0\n",
       "Vintage                0\n",
       "Credit_Product         0\n",
       "Avg_Account_Balance    0\n",
       "Is_Active              0\n",
       "dtype: int64"
      ]
     },
     "execution_count": 26,
     "metadata": {},
     "output_type": "execute_result"
    }
   ],
   "source": [
    "np.sum(test.isnull())"
   ]
  },
  {
   "cell_type": "markdown",
   "metadata": {},
   "source": [
    "# 2. Class Imbalance"
   ]
  },
  {
   "cell_type": "code",
   "execution_count": 27,
   "metadata": {},
   "outputs": [
    {
     "data": {
      "image/png": "[encoded data removed]",
      "text/plain": [
       "<Figure size 864x432 with 1 Axes>"
      ]
     },
     "metadata": {},
     "output_type": "display_data"
    }
   ],
   "source": [
    "ax = plt.subplots(figsize=(12, 6))\n",
    "sns.set_style(\"whitegrid\")\n",
    "sns.countplot(x='Is_Lead', data=train);\n",
    "plt.ylabel(\"No. of Observations\", size=20);\n",
    "plt.xlabel(\"Response\", size=20);"
   ]
  },
  {
   "cell_type": "markdown",
   "metadata": {},
   "source": [
    "Okay, so it is an imbalanced set. We have to keep that in mind while modelling and choosing hyper-parameters later."
   ]
  },
  {
   "cell_type": "markdown",
   "metadata": {},
   "source": [
    "# 3. Feature Value Counts\n",
    "Another important thing to keep in mind during modelling"
   ]
  },
  {
   "cell_type": "code",
   "execution_count": 28,
   "metadata": {},
   "outputs": [
    {
     "data": {
      "text/plain": [
       "ID                     245725\n",
       "Gender                      2\n",
       "Age                        63\n",
       "Region_Code                35\n",
       "Occupation                  4\n",
       "Channel_Code                4\n",
       "Vintage                    66\n",
       "Credit_Product              2\n",
       "Avg_Account_Balance    135292\n",
       "Is_Active                   2\n",
       "Is_Lead                     2\n",
       "dtype: int64"
      ]
     },
     "execution_count": 28,
     "metadata": {},
     "output_type": "execute_result"
    }
   ],
   "source": [
    "train.nunique()"
   ]
  },
  {
   "cell_type": "markdown",
   "metadata": {},
   "source": [
    "#### since, Avg_Account_Balance has high number of unique values, we study how it varies our target variable.  "
   ]
  },
  {
   "cell_type": "markdown",
   "metadata": {},
   "source": [
    "### we use catplot because it helps in studying the variation in terms of two categorical feature and one numerical feature."
   ]
  },
  {
   "cell_type": "code",
   "execution_count": 30,
   "metadata": {},
   "outputs": [
    {
     "data": {
      "image/png": "[encoded data removed]",
      "text/plain": [
       "<Figure size 864x504 with 1 Axes>"
      ]
     },
     "metadata": {},
     "output_type": "display_data"
    }
   ],
   "source": [
    "g = sns.catplot(x='Is_Lead', y='Avg_Account_Balance', kind='boxen', data=train);\n",
    "g.fig.set_size_inches(12,7)"
   ]
  },
  {
   "cell_type": "markdown",
   "metadata": {},
   "source": [
    "The distribution of Avg_Account_Balance of customers is sort of similar between a lead and no-lead customer.But there might be a variation if we consider Channel_Code of customer."
   ]
  },
  {
   "cell_type": "code",
   "execution_count": 31,
   "metadata": {},
   "outputs": [
    {
     "data": {
      "image/png": "[encoded data removed]",
      "text/plain": [
       "<Figure size 1440x720 with 1 Axes>"
      ]
     },
     "metadata": {},
     "output_type": "display_data"
    }
   ],
   "source": [
    "g = sns.catplot(x='Channel_Code', y='Avg_Account_Balance', hue='Is_Lead', kind='box', data=train);\n",
    "g.fig.set_size_inches(20,10)"
   ]
  },
  {
   "cell_type": "markdown",
   "metadata": {},
   "source": [
    "Also, Occupation type can have significant impact on someone's avrage account balance so variation related to that is also needed to be studied."
   ]
  },
  {
   "cell_type": "code",
   "execution_count": 32,
   "metadata": {},
   "outputs": [
    {
     "data": {
      "image/png": "[encoded data removed]",
      "text/plain": [
       "<Figure size 1440x720 with 1 Axes>"
      ]
     },
     "metadata": {},
     "output_type": "display_data"
    }
   ],
   "source": [
    "g = sns.catplot(x='Occupation', y='Avg_Account_Balance', hue='Is_Lead', kind='box', data=train);\n",
    "g.fig.set_size_inches(20,10)"
   ]
  },
  {
   "cell_type": "markdown",
   "metadata": {},
   "source": [
    "there might be some Gender bias, so, we study that as well"
   ]
  },
  {
   "cell_type": "code",
   "execution_count": 33,
   "metadata": {},
   "outputs": [
    {
     "data": {
      "image/png": "[encoded data removed]",
      "text/plain": [
       "<Figure size 1440x720 with 1 Axes>"
      ]
     },
     "metadata": {},
     "output_type": "display_data"
    }
   ],
   "source": [
    "g = sns.catplot(x='Gender', y='Avg_Account_Balance', hue='Is_Lead', kind='box', data=train);\n",
    "g.fig.set_size_inches(20,10)"
   ]
  },
  {
   "cell_type": "markdown",
   "metadata": {},
   "source": [
    "Age can be another reason for lead to go cold as people older than 35 usaully already have credit cards or they don't want to have one."
   ]
  },
  {
   "cell_type": "code",
   "execution_count": 34,
   "metadata": {},
   "outputs": [
    {
     "data": {
      "image/png": "[encoded data removed]",
      "text/plain": [
       "<Figure size 1080x576 with 1 Axes>"
      ]
     },
     "metadata": {},
     "output_type": "display_data"
    }
   ],
   "source": [
    "g = sns.catplot(x='Is_Lead', y='Age', kind='boxen', data=train);\n",
    "g.fig.set_size_inches(15,8)"
   ]
  },
  {
   "cell_type": "markdown",
   "metadata": {},
   "source": [
    "combination of age(people like to spend more in young age but they don't have enough money as a result they use credit cards) and occupation type(salaried people have regular income, so, mostly they like to spend according to that, but entrprenuers and self_employed people, sometimes requires a little help to pay there monthly bills) can give us useful insight for why a lead goes cold."
   ]
  },
  {
   "cell_type": "code",
   "execution_count": 35,
   "metadata": {},
   "outputs": [
    {
     "data": {
      "image/png": "[encoded data removed]",
      "text/plain": [
       "<Figure size 1440x720 with 1 Axes>"
      ]
     },
     "metadata": {},
     "output_type": "display_data"
    }
   ],
   "source": [
    "g = sns.catplot(x='Occupation', y='Age', hue='Is_Lead', kind='box', data=train);\n",
    "g.fig.set_size_inches(20,10)"
   ]
  },
  {
   "cell_type": "markdown",
   "metadata": {},
   "source": [
    "if a person already has an active credit product then they might not want to be in more debt than they already in but this mentallity changes if they already have a hugh bank balance. So, plot between Credit_Product, Average_Account_Balance and Is_lead can give us useful insights. "
   ]
  },
  {
   "cell_type": "code",
   "execution_count": 36,
   "metadata": {},
   "outputs": [
    {
     "data": {
      "image/png": "[encoded data removed]",
      "text/plain": [
       "<Figure size 1440x720 with 1 Axes>"
      ]
     },
     "metadata": {},
     "output_type": "display_data"
    }
   ],
   "source": [
    "g = sns.catplot(x='Credit_Product', y='Avg_Account_Balance', hue='Is_Lead', kind='box', data=train);\n",
    "g.fig.set_size_inches(20,10)"
   ]
  },
  {
   "cell_type": "code",
   "execution_count": 37,
   "metadata": {},
   "outputs": [
    {
     "data": {
      "text/plain": [
       "Male      134197\n",
       "Female    111528\n",
       "Name: Gender, dtype: int64"
      ]
     },
     "execution_count": 37,
     "metadata": {},
     "output_type": "execute_result"
    }
   ],
   "source": [
    "train.Gender.value_counts()"
   ]
  },
  {
   "cell_type": "code",
   "execution_count": 38,
   "metadata": {},
   "outputs": [
    {
     "data": {
      "text/plain": [
       "No     150290\n",
       "Yes     95435\n",
       "Name: Is_Active, dtype: int64"
      ]
     },
     "execution_count": 38,
     "metadata": {},
     "output_type": "execute_result"
    }
   ],
   "source": [
    "train.Is_Active.value_counts()"
   ]
  },
  {
   "cell_type": "code",
   "execution_count": 39,
   "metadata": {},
   "outputs": [
    {
     "data": {
      "text/plain": [
       "Self_Employed    100886\n",
       "Salaried          71999\n",
       "Other             70173\n",
       "Entrepreneur       2667\n",
       "Name: Occupation, dtype: int64"
      ]
     },
     "execution_count": 39,
     "metadata": {},
     "output_type": "execute_result"
    }
   ],
   "source": [
    "train.Occupation.value_counts()"
   ]
  },
  {
   "cell_type": "code",
   "execution_count": 40,
   "metadata": {},
   "outputs": [
    {
     "data": {
      "text/plain": [
       "35"
      ]
     },
     "execution_count": 40,
     "metadata": {},
     "output_type": "execute_result"
    }
   ],
   "source": [
    "train.Region_Code.nunique()"
   ]
  },
  {
   "cell_type": "code",
   "execution_count": 41,
   "metadata": {},
   "outputs": [
    {
     "data": {
      "text/plain": [
       "RG268    35934\n",
       "RG283    29416\n",
       "RG254    26840\n",
       "RG284    19320\n",
       "RG277    12826\n",
       "RG280    12775\n",
       "RG269     7863\n",
       "RG270     7720\n",
       "RG261     7633\n",
       "RG257     6101\n",
       "RG251     5950\n",
       "RG282     5829\n",
       "RG274     5286\n",
       "RG272     5252\n",
       "RG281     5093\n",
       "RG273     4497\n",
       "RG252     4286\n",
       "RG279     3976\n",
       "RG263     3687\n",
       "RG275     3245\n",
       "RG260     3110\n",
       "RG256     2847\n",
       "RG264     2793\n",
       "RG276     2764\n",
       "RG259     2586\n",
       "RG250     2496\n",
       "RG255     2018\n",
       "RG258     1951\n",
       "RG253     1858\n",
       "RG278     1822\n",
       "RG262     1788\n",
       "RG266     1578\n",
       "RG265     1546\n",
       "RG271     1542\n",
       "RG267     1497\n",
       "Name: Region_Code, dtype: int64"
      ]
     },
     "execution_count": 41,
     "metadata": {},
     "output_type": "execute_result"
    }
   ],
   "source": [
    "train.Region_Code.value_counts()"
   ]
  },
  {
   "cell_type": "code",
   "execution_count": 42,
   "metadata": {},
   "outputs": [
    {
     "data": {
      "text/plain": [
       "4"
      ]
     },
     "execution_count": 42,
     "metadata": {},
     "output_type": "execute_result"
    }
   ],
   "source": [
    "train.Channel_Code.nunique()"
   ]
  },
  {
   "cell_type": "code",
   "execution_count": 45,
   "metadata": {},
   "outputs": [],
   "source": [
    "categorical_features = ['Gender','Region_Code','Occupation','Channel_Code','Credit_Product','Is_Active']"
   ]
  },
  {
   "cell_type": "code",
   "execution_count": 46,
   "metadata": {},
   "outputs": [
    {
     "name": "stdout",
     "output_type": "stream",
     "text": [
      "['Gender', 'Age', 'Region_Code', 'Occupation', 'Channel_Code', 'Vintage', 'Credit_Product', 'Avg_Account_Balance', 'Is_Active']\n",
      "Categorical Features: ['Gender', 'Region_Code', 'Occupation', 'Channel_Code', 'Credit_Product', 'Is_Active']\n",
      "Numerical Features: ['Age', 'Vintage', 'Avg_Account_Balance']\n"
     ]
    }
   ],
   "source": [
    "target = ['Is_Lead']\n",
    "not_features = ['ID', 'Is_Lead', 'kfold']\n",
    "cols = list(train.columns)\n",
    "features = [feat for feat in cols if feat not in not_features]\n",
    "print(features)\n",
    "numerical_features = [feat for feat in features if feat not in categorical_features]\n",
    "\n",
    "print(f'Categorical Features: {categorical_features}')\n",
    "print(f'Numerical Features: {numerical_features}')"
   ]
  },
  {
   "cell_type": "code",
   "execution_count": null,
   "metadata": {},
   "outputs": [],
   "source": [
    "g = sns.pairplot(train[numerical_features + ['Is_Lead']], hue='Is_Lead')\n",
    "g.fig.set_size_inches(10,8)"
   ]
  },
  {
   "cell_type": "markdown",
   "metadata": {},
   "source": [
    "# k-fold split"
   ]
  },
  {
   "cell_type": "code",
   "execution_count": null,
   "metadata": {},
   "outputs": [],
   "source": [
    "NUM_SPLITS = 5\n",
    "\n",
    "train[\"kfold\"] = -1\n",
    "train = train.sample(frac=1).reset_index(drop=True)\n",
    "y = train.Is_Lead.values\n",
    "kf = StratifiedKFold(n_splits=NUM_SPLITS)\n",
    "for f, (t_, v_) in enumerate(kf.split(X=train, y=y)):\n",
    "    train.loc[v_, 'kfold'] = f\n",
    "    \n",
    "train.head()"
   ]
  },
  {
   "cell_type": "markdown",
   "metadata": {},
   "source": [
    "# Feature engineering"
   ]
  },
  {
   "cell_type": "code",
   "execution_count": null,
   "metadata": {},
   "outputs": [],
   "source": [
    "train['avg_acc_bal_Per_Age'] = np.log(train['Avg_Account_Balance'].astype(float)/train['Age'])\n",
    "test['avg_acc_bal_Per_Age'] = np.log(test['Avg_Account_Balance'].astype(float)/test['Age'])"
   ]
  },
  {
   "cell_type": "code",
   "execution_count": null,
   "metadata": {},
   "outputs": [],
   "source": [
    "train['Region_Channel'] = train[\"Channel_Code\"].astype(str) + '_' + train[\"Region_Code\"].astype(str)\n",
    "test['Region_Channel'] = test[\"Channel_Code\"].astype(str) + '_' + test[\"Region_Code\"].astype(str)"
   ]
  },
  {
   "cell_type": "code",
   "execution_count": null,
   "metadata": {},
   "outputs": [],
   "source": [
    "train['Age_Bin_10'] = pd.cut(train['Age'], bins=10, labels=False)\n",
    "train['Age_Bin_50'] = pd.cut(train['Age'], bins=50, labels=False)\n",
    "test['Age_Bin_10'] = pd.cut(test['Age'], bins=10, labels=False)\n",
    "test['Age_Bin_50'] = pd.cut(test['Age'], bins=50, labels=False)"
   ]
  },
  {
   "cell_type": "code",
   "execution_count": null,
   "metadata": {},
   "outputs": [],
   "source": [
    "train['Avg_Account_Balance_Bin_10'] = pd.cut(train['Avg_Account_Balance'].astype(float), bins=10, labels=False)\n",
    "train['Avg_Account_Balance_Bin_50'] = pd.cut(train['Avg_Account_Balance'].astype(float), bins=50, labels=False)\n",
    "test['Avg_Account_Balance_Bin_10'] = pd.cut(test['Avg_Account_Balance'].astype(float), bins=10, labels=False)\n",
    "test['Avg_Account_Balance_Bin_50'] = pd.cut(test['Avg_Account_Balance'].astype(float), bins=50, labels=False)"
   ]
  },
  {
   "cell_type": "code",
   "execution_count": null,
   "metadata": {},
   "outputs": [],
   "source": [
    "def make_whole_number(data):\n",
    "    _data = str(int(data))\n",
    "    _len_data = len(_data)\n",
    "    _data = \"\".join(_data[0] + '0' * (_len_data-1))\n",
    "    return int(_data)"
   ]
  },
  {
   "cell_type": "code",
   "execution_count": null,
   "metadata": {},
   "outputs": [],
   "source": [
    "train.sample(5)"
   ]
  },
  {
   "cell_type": "code",
   "execution_count": null,
   "metadata": {},
   "outputs": [],
   "source": [
    "train['avg_acc_bal_Per_Age_round'] = train['avg_acc_bal_Per_Age'].apply(make_whole_number)\n",
    "test['avg_acc_bal_Per_Age_round'] = test['avg_acc_bal_Per_Age'].apply(make_whole_number)"
   ]
  },
  {
   "cell_type": "code",
   "execution_count": null,
   "metadata": {},
   "outputs": [],
   "source": [
    "train['Vintage_in_years'] = train['Vintage'].astype(float)/12\n",
    "test['Vintage_in_years'] = test['Vintage'].astype(float)/12"
   ]
  },
  {
   "cell_type": "code",
   "execution_count": null,
   "metadata": {},
   "outputs": [],
   "source": [
    "train.info()"
   ]
  },
  {
   "cell_type": "markdown",
   "metadata": {},
   "source": [
    "# Features Encoding\n",
    "Irrespective of the column datatype, we can split the data based on their definition into categorical and Numeric Data types."
   ]
  },
  {
   "cell_type": "code",
   "execution_count": null,
   "metadata": {},
   "outputs": [],
   "source": [
    "target = ['Is_Lead']\n",
    "not_features = ['ID', 'Is_Lead', 'kfold']\n",
    "cols = list(train.columns)\n",
    "features = [feat for feat in cols if feat not in not_features]\n",
    "print(features)"
   ]
  },
  {
   "cell_type": "code",
   "execution_count": null,
   "metadata": {},
   "outputs": [],
   "source": [
    "categorical_features = ['Gender', 'Region_Channel', 'Is_Active', 'Credit_Product', 'Channel_Code', 'Region_Code', 'Occupation', 'Age_Bin_10', 'Age_Bin_50', 'Avg_Account_Balance_Bin_10', 'Avg_Account_Balance_Bin_50', 'Vintage', 'Vintage_in_years']"
   ]
  },
  {
   "cell_type": "code",
   "execution_count": null,
   "metadata": {},
   "outputs": [],
   "source": [
    "numerical_features = [feat for feat in features if feat not in categorical_features]\n",
    "\n",
    "print(f'Categorical Features: {categorical_features}\\n')\n",
    "print(f'Numeric Features: {numerical_features}')"
   ]
  },
  {
   "cell_type": "code",
   "execution_count": null,
   "metadata": {},
   "outputs": [],
   "source": [
    "train[categorical_features] = train[categorical_features].astype('str')\n",
    "test[categorical_features] = test[categorical_features].astype('str')"
   ]
  },
  {
   "cell_type": "code",
   "execution_count": null,
   "metadata": {},
   "outputs": [],
   "source": [
    "train[numerical_features] = train[numerical_features].astype('float64')\n",
    "test[numerical_features] = test[numerical_features].astype('float64')"
   ]
  },
  {
   "cell_type": "code",
   "execution_count": null,
   "metadata": {},
   "outputs": [],
   "source": [
    "train[target] = train[target].astype('float64')"
   ]
  },
  {
   "cell_type": "code",
   "execution_count": null,
   "metadata": {},
   "outputs": [],
   "source": [
    "train.sample(5)"
   ]
  },
  {
   "cell_type": "code",
   "execution_count": null,
   "metadata": {},
   "outputs": [],
   "source": [
    "nominal_cols = ['Gender', 'Region_Channel', 'Is_Active', 'Credit_Product', 'Channel_Code', 'Region_Code', 'Occupation']\n",
    "ordinal_cols = ['Age_Bin_10', 'Age_Bin_50', 'Avg_Account_Balance_Bin_10', 'Avg_Account_Balance_Bin_50', 'Vintage', 'Vintage_in_years']"
   ]
  },
  {
   "cell_type": "code",
   "execution_count": null,
   "metadata": {},
   "outputs": [],
   "source": [
    "lbl_enc = preprocessing.LabelEncoder()\n",
    "full_data = pd.concat(\n",
    "    [train[categorical_features], test[categorical_features]],\n",
    "    axis=0\n",
    ")\n",
    "\n",
    "for col in (categorical_features):\n",
    "    print(col)\n",
    "    if train[col].dtype == 'object':\n",
    "        lbl_enc.fit(full_data[col].values)\n",
    "        train[col] = lbl_enc.transform(train[col])\n",
    "        test[col] = lbl_enc.transform(test[col])"
   ]
  },
  {
   "cell_type": "markdown",
   "metadata": {},
   "source": [
    "# Features Selection\n",
    "Now let's only select the important features to overcome the curse of dimensionality."
   ]
  },
  {
   "cell_type": "code",
   "execution_count": null,
   "metadata": {},
   "outputs": [],
   "source": [
    "target = ['Is_Lead']\n",
    "not_features = ['ID', 'Is_Lead', 'kfold']\n",
    "cols = list(train.columns)\n",
    "features = [feat for feat in cols if feat not in not_features]"
   ]
  },
  {
   "cell_type": "code",
   "execution_count": null,
   "metadata": {},
   "outputs": [],
   "source": [
    "class UnivariateFeatureSelction:\n",
    "    def __init__(self, n_features, problem_type, scoring, return_cols=True):\n",
    "        \"\"\"\n",
    "        Custom univariate feature selection wrapper on\n",
    "        different univariate feature selection models from\n",
    "        scikit-learn.\n",
    "        :param n_features: SelectPercentile if float else SelectKBest\n",
    "        :param problem_type: classification or regression\n",
    "        :param scoring: scoring function, string\n",
    "        \"\"\"\n",
    "        self.n_features = n_features\n",
    "        \n",
    "        if problem_type == \"classification\":\n",
    "            valid_scoring = {\n",
    "                \"f_classif\": f_classif,\n",
    "                \"chi2\": chi2,\n",
    "                \"mutual_info_classif\": mutual_info_classif\n",
    "            }\n",
    "        else:\n",
    "            valid_scoring = {\n",
    "                \"f_regression\": f_regression,\n",
    "                \"mutual_info_regression\": mutual_info_regression\n",
    "            }\n",
    "        if scoring not in valid_scoring:\n",
    "            raise Exception(\"Invalid scoring function\")\n",
    "            \n",
    "        if isinstance(n_features, int):\n",
    "            self.selection = SelectKBest(\n",
    "                valid_scoring[scoring],\n",
    "                k=n_features\n",
    "            )\n",
    "        elif isinstance(n_features, float):\n",
    "            self.selection = SelectPercentile(\n",
    "                valid_scoring[scoring],\n",
    "                percentile=int(n_features * 100)\n",
    "            )\n",
    "        else:\n",
    "            raise Exception(\"Invalid type of feature\")\n",
    "    \n",
    "    def fit(self, X, y):\n",
    "        return self.selection.fit(X, y)\n",
    "    \n",
    "    def transform(self, X):\n",
    "        return self.selection.transform(X)\n",
    "    def fit_transform(self, X, y):\n",
    "        return self.selection.fit_transform(X, y)\n",
    "    \n",
    "    def return_cols(self, X):\n",
    "        if isinstance(self.n_features, int):\n",
    "            mask = SelectKBest.get_support(self.selection)\n",
    "            selected_features = []\n",
    "            features = list(X.columns)\n",
    "            for bool, feature in zip(mask, features):\n",
    "                if bool:\n",
    "                    selected_features.append(feature)\n",
    "                    \n",
    "        elif isinstance(self.n_features, float):\n",
    "            mask = SelectPercentile.get_support(self.selection)\n",
    "            selected_features = []\n",
    "            features = list(X.columns)\n",
    "            for bool, feature in zip(mask, features):\n",
    "                if bool:\n",
    "                    selected_features.append(feature)\n",
    "        else:\n",
    "            raise Exception(\"Invalid type of feature\")\n",
    "        \n",
    "        return selected_features"
   ]
  },
  {
   "cell_type": "code",
   "execution_count": null,
   "metadata": {},
   "outputs": [],
   "source": [
    "ufs = UnivariateFeatureSelction(\n",
    "    n_features=0.7,\n",
    "    problem_type=\"classification\",\n",
    "    scoring=\"f_classif\"\n",
    ")\n",
    "\n",
    "ufs.fit(train[features], train[target].values.ravel())\n",
    "# X_transformed = ufs.transform(train_df[features])\n",
    "selected_features = ufs.return_cols(train[features])"
   ]
  },
  {
   "cell_type": "code",
   "execution_count": null,
   "metadata": {},
   "outputs": [],
   "source": [
    "selected_features"
   ]
  },
  {
   "cell_type": "markdown",
   "metadata": {},
   "source": [
    "# find best models "
   ]
  },
  {
   "cell_type": "code",
   "execution_count": null,
   "metadata": {},
   "outputs": [],
   "source": [
    "def rate_model(clf, x, cv = StratifiedKFold(n_splits=NUM_SPLITS),\n",
    "               fold=0, features=selected_features, target=target):\n",
    "    '''\n",
    "    Prints out various evaluation metrics for a classification task. Like:-\n",
    "    1. Classification Accuracy\n",
    "    2. ROC-AUC Score\n",
    "    3. Precision\n",
    "    4. Recall\n",
    "    5. F1 Score\n",
    "    6. Confusion matrix\n",
    "    All score are calculated in base format. No averaging is performed.\n",
    "    \n",
    "    clf - Classification Model\n",
    "    x - Input features\n",
    "    cv - Cross Validation criteria\n",
    "    fold - fold number for confusion matrix\n",
    "    features - Feature column names\n",
    "     target - Target column name\n",
    "    '''\n",
    "    \n",
    "    scoring = {'acc' : 'accuracy', 'roc' : 'roc_auc', 'precision' : 'precision', 'recall' : 'recall', 'f1' : 'f1'}\n",
    "    scores = cross_validate(clf, x[features], x[target].values.ravel(), scoring=scoring, cv=cv, return_train_score=False)\n",
    "    roc = np.mean(scores['test_roc'])\n",
    "    acc = np.mean(scores['test_acc'])\n",
    "    prec = np.mean(scores['test_precision'])\n",
    "    rec = np.mean(scores['test_recall'])\n",
    "    f1 = np.mean(scores['test_f1'])\n",
    "    print(f'ROC: {roc}')\n",
    "    print(f'Accuracy: {acc}')\n",
    "    print(f'Precision: {prec}')\n",
    "    print(f'Recall: {rec}')\n",
    "    print(f'F-Score: {f1}')"
   ]
  },
  {
   "cell_type": "code",
   "execution_count": null,
   "metadata": {},
   "outputs": [],
   "source": [
    "clf = LogisticRegression(C=1.0, max_iter=5000)\n",
    "rate_model(clf, train, fold=3)"
   ]
  },
  {
   "cell_type": "code",
   "execution_count": null,
   "metadata": {},
   "outputs": [],
   "source": [
    "clf = KNeighborsClassifier(n_neighbors=3)\n",
    "rate_model(clf, train, fold=3)"
   ]
  },
  {
   "cell_type": "code",
   "execution_count": null,
   "metadata": {},
   "outputs": [],
   "source": [
    "RANDOM_SEED = 42"
   ]
  },
  {
   "cell_type": "code",
   "execution_count": null,
   "metadata": {},
   "outputs": [],
   "source": [
    "clf = RandomForestClassifier(n_estimators = 100,\n",
    "                             random_state=RANDOM_SEED,\n",
    "                             n_jobs=-1,\n",
    "                             class_weight='balanced_subsample')\n",
    "rate_model(clf, train, fold=3)"
   ]
  },
  {
   "cell_type": "code",
   "execution_count": null,
   "metadata": {},
   "outputs": [],
   "source": [
    "NUM_BOOSTERS = 1000\n",
    "\n",
    "clf = xgb.XGBClassifier(max_depth=7,\n",
    "                        n_estimators=NUM_BOOSTERS,\n",
    "                        colsample_bytree=0.8,\n",
    "                        subsample=0.8,\n",
    "                        nthread=-1,\n",
    "                        learning_rate=0.1)\n",
    "rate_model(clf, train, fold=3)"
   ]
  },
  {
   "cell_type": "code",
   "execution_count": null,
   "metadata": {},
   "outputs": [],
   "source": [
    "NUM_BOOSTERS = 1000\n",
    "METRIC = 'auc'\n",
    "cat_cols = [i for i, col in enumerate(train[selected_features].columns) if col not in numerical_features]\n",
    "EARLY_STOPPING = 100\n",
    "\n",
    "clf = LGBMClassifier(metric=METRIC,\n",
    "                     seed=RANDOM_SEED,\n",
    "                     n_estimators=NUM_BOOSTERS)\n",
    "rate_model(clf, train, fold=3)"
   ]
  },
  {
   "cell_type": "code",
   "execution_count": null,
   "metadata": {},
   "outputs": [],
   "source": [
    "NUM_BOOSTERS = 3000\n",
    "EARLY_STOPPING = 100\n",
    "METRIC = 'AUC'\n",
    "cat_cols = [i for i, col in enumerate(train[selected_features].columns) if col not in numerical_features]\n",
    "\n",
    "clf = CatBoostClassifier(verbose=0,\n",
    "                         n_estimators=NUM_BOOSTERS,\n",
    "                         eval_metric=METRIC,\n",
    "                         random_seed=RANDOM_SEED,\n",
    "                         cat_features=cat_cols)\n",
    "rate_model(clf, train, fold=3)"
   ]
  },
  {
   "cell_type": "code",
   "execution_count": null,
   "metadata": {},
   "outputs": [],
   "source": [
    "current_fold = 0\n",
    "df_train = train[train.kfold != current_fold].reset_index(drop=True)\n",
    "df_valid = train[train.kfold == current_fold].reset_index(drop=True)"
   ]
  },
  {
   "cell_type": "code",
   "execution_count": null,
   "metadata": {},
   "outputs": [],
   "source": [
    "clf = CatBoostClassifier(verbose=0,\n",
    "                         n_estimators=NUM_BOOSTERS,\n",
    "                         eval_metric=METRIC,\n",
    "                         random_seed=RANDOM_SEED,\n",
    "                         cat_features=cat_cols,\n",
    "                         early_stopping_rounds=EARLY_STOPPING)\n",
    "clf.fit(df_train[selected_features], df_train.Is_Lead,\n",
    "        eval_set=(df_valid[selected_features], df_valid.Is_Lead),\n",
    "        plot=True, verbose=False);\n",
    "\n",
    "ypred = clf.predict_proba(df_valid[selected_features])[:,1]\n"
   ]
  },
  {
   "cell_type": "code",
   "execution_count": null,
   "metadata": {},
   "outputs": [],
   "source": [
    "roc_auc_score(df_valid.Is_Lead, ypred)"
   ]
  },
  {
   "cell_type": "markdown",
   "metadata": {},
   "source": [
    "three best models are CatBoostClassifier, XGBClassifier and LGBMClassifier."
   ]
  },
  {
   "cell_type": "markdown",
   "metadata": {},
   "source": [
    "# find suitable weights"
   ]
  },
  {
   "cell_type": "code",
   "execution_count": null,
   "metadata": {},
   "outputs": [],
   "source": [
    "current_fold = 4\n",
    "\n",
    "df_train_4 = train[train.kfold != current_fold].reset_index(drop=True)\n",
    "df_valid_4 = train[train.kfold == current_fold].reset_index(drop=True)"
   ]
  },
  {
   "cell_type": "code",
   "execution_count": null,
   "metadata": {},
   "outputs": [],
   "source": [
    "lgb = LGBMClassifier(metric='auc',\n",
    "                     seed=RANDOM_SEED,\n",
    "                     n_estimators=NUM_BOOSTERS)\n",
    "cb = CatBoostClassifier(verbose=0,\n",
    "                        n_estimators=NUM_BOOSTERS,\n",
    "                        eval_metric='AUC',\n",
    "                        random_seed=RANDOM_SEED,\n",
    "                        cat_features=cat_cols)\n",
    "xgbc = xgb.XGBClassifier()"
   ]
  },
  {
   "cell_type": "code",
   "execution_count": null,
   "metadata": {},
   "outputs": [],
   "source": [
    "lgb.fit(df_train_4[selected_features], df_train_4[target].values.ravel())\n",
    "cb.fit(df_train_4[selected_features], df_train_4[target].values.ravel())\n",
    "xgbc.fit(df_train_4[selected_features], df_train_4[target].values.ravel())"
   ]
  },
  {
   "cell_type": "code",
   "execution_count": null,
   "metadata": {},
   "outputs": [],
   "source": [
    "pred_lgb = lgb.predict_proba(df_valid_4[selected_features])[:, 1]\n",
    "pred_cb = cb.predict_proba(df_valid_4[selected_features])[:, 1]\n",
    "pred_xgbc = xgbc.predict_proba(df_valid_4[selected_features])[:, 1]\n",
    "avg_pred = (pred_lgb + pred_cb + pred_xgbc) / 3"
   ]
  },
  {
   "cell_type": "code",
   "execution_count": null,
   "metadata": {},
   "outputs": [],
   "source": [
    "fold4_preds = np.column_stack((\n",
    "    pred_lgb,\n",
    "    pred_cb,\n",
    "    pred_xgbc,\n",
    "    avg_pred\n",
    "))\n",
    "\n",
    "aucs_fold4 = []\n",
    "for i in range(fold4_preds.shape[1]):\n",
    "    auc = roc_auc_score(df_valid_4[target].values.ravel(), fold4_preds[:, i])\n",
    "    aucs_fold4.append(auc)\n",
    "    \n",
    "print(f\"Fold-2: LGB AUC = {aucs_fold4[0]}\")\n",
    "print(f\"Fold-2: CB AUC = {aucs_fold4[1]}\")\n",
    "print(f\"Fold-2: XGB AUC = {aucs_fold4[2]}\")\n",
    "print(f\"Fold-2: Average Pred AUC = {aucs_fold4[3]}\")"
   ]
  },
  {
   "cell_type": "code",
   "execution_count": null,
   "metadata": {},
   "outputs": [],
   "source": [
    "current_fold = 1\n",
    "\n",
    "df_train_1 = train[train.kfold != current_fold].reset_index(drop=True)\n",
    "df_valid_1 = train[train.kfold == current_fold].reset_index(drop=True)"
   ]
  },
  {
   "cell_type": "code",
   "execution_count": null,
   "metadata": {},
   "outputs": [],
   "source": [
    "lgb = LGBMClassifier(metric='auc',\n",
    "                     seed=RANDOM_SEED,\n",
    "                     n_estimators=NUM_BOOSTERS)\n",
    "cb = CatBoostClassifier(verbose=0,\n",
    "                        n_estimators=NUM_BOOSTERS,\n",
    "                        eval_metric='AUC',\n",
    "                        random_seed=RANDOM_SEED,\n",
    "                        cat_features=cat_cols)\n",
    "xgbc = xgb.XGBClassifier()"
   ]
  },
  {
   "cell_type": "code",
   "execution_count": null,
   "metadata": {},
   "outputs": [],
   "source": [
    "lgb.fit(df_train_1[selected_features], df_train_1[target].values.ravel())\n",
    "cb.fit(df_train_1[selected_features], df_train_1[target].values.ravel())\n",
    "xgbc.fit(df_train_1[selected_features], df_train_1[target].values.ravel())"
   ]
  },
  {
   "cell_type": "code",
   "execution_count": null,
   "metadata": {},
   "outputs": [],
   "source": [
    "pred_lgb = lgb.predict_proba(df_valid_1[selected_features])[:, 1]\n",
    "pred_cb = cb.predict_proba(df_valid_1[selected_features])[:, 1]\n",
    "pred_xgbc = xgbc.predict_proba(df_valid_1[selected_features])[:, 1]\n",
    "avg_pred = (pred_lgb + pred_cb + pred_xgbc) / 3"
   ]
  },
  {
   "cell_type": "code",
   "execution_count": null,
   "metadata": {},
   "outputs": [],
   "source": [
    "fold1_preds = np.column_stack((\n",
    "    pred_lgb,\n",
    "    pred_cb,\n",
    "    pred_xgbc,\n",
    "    avg_pred\n",
    "))\n",
    "\n",
    "aucs_fold1 = []\n",
    "for i in range(fold1_preds.shape[1]):\n",
    "    auc = roc_auc_score(df_valid_1[target].values.ravel(), fold1_preds[:, i])\n",
    "    aucs_fold1.append(auc)\n",
    "    \n",
    "print(f\"Fold-2: LGB AUC = {aucs_fold1[0]}\")\n",
    "print(f\"Fold-2: CB AUC = {aucs_fold1[1]}\")\n",
    "print(f\"Fold-2: XGB AUC = {aucs_fold1[2]}\")\n",
    "print(f\"Fold-2: Average Pred AUC = {aucs_fold1[3]}\")"
   ]
  },
  {
   "cell_type": "code",
   "execution_count": null,
   "metadata": {},
   "outputs": [],
   "source": [
    "class OptimizeAUC:\n",
    "    def __init__(self):\n",
    "        self.coef_ = 0\n",
    "        \n",
    "    def _auc(self, coef, X, y):\n",
    "        x_coef = X * coef\n",
    "        predictions = np.sum(x_coef, axis=1)\n",
    "        auc_score = roc_auc_score(y, predictions)\n",
    "        return -1.0 * auc_score\n",
    "    \n",
    "    def fit(self, X, y):\n",
    "        loss_partial = partial(self._auc, X=X, y=y)\n",
    "        initial_coef = np.random.dirichlet(np.ones(X.shape[1]), size=1)\n",
    "        self.coef_ = scip_fmin(loss_partial, initial_coef, disp=True)\n",
    "    def predict(self, X):\n",
    "        x_coef = X * self.coef_\n",
    "        predictions = np.sum(x_coef, axis=1)\n",
    "        return predictions"
   ]
  },
  {
   "cell_type": "code",
   "execution_count": null,
   "metadata": {},
   "outputs": [],
   "source": [
    "opt = OptimizeAUC()\n",
    "\n",
    "opt.fit(fold1_preds[:, :-1], df_valid_1[target].values.ravel())\n",
    "opt_preds_fold4 = opt.predict(fold4_preds[:, :-1])\n",
    "auc = roc_auc_score(df_valid_4[target].values.ravel(), opt_preds_fold4)\n",
    "print(f\"Optimized AUC, Fold 2 = {auc}\")\n",
    "print(f\"Coefficients = {opt.coef_}\")"
   ]
  },
  {
   "cell_type": "code",
   "execution_count": null,
   "metadata": {},
   "outputs": [],
   "source": [
    "def rate_ensemble_model(clfs, weights, X, fold=0, features=selected_features,\n",
    "                        target=target):\n",
    "    if len(clfs) != len(weights):\n",
    "        raise Exception(\"Number of Classifiers and Weights unequal!\")\n",
    "    else:\n",
    "        X_train = X[X.kfold != fold].reset_index(drop=True)\n",
    "        X_valid = X[X.kfold == fold].reset_index(drop=True)\n",
    "        \n",
    "        preds = np.zeros(X_valid.shape[0])\n",
    "        for i, clf in enumerate(clfs):\n",
    "            clf.fit(X_train[features], X_train[target].values.ravel())\n",
    "            preds += clf.predict_proba(X_valid[features])[:, 1] * weights[i]\n",
    "        print(f'AUC Score: {roc_auc_score(X_valid[target].values.ravel(), preds)}')"
   ]
  },
  {
   "cell_type": "code",
   "execution_count": null,
   "metadata": {},
   "outputs": [],
   "source": [
    "for i in range(NUM_SPLITS):\n",
    "    rate_ensemble_model(clfs = [lgb, cb, xgbc],\n",
    "                        weights = opt.coef_,\n",
    "                        X = train_df, fold=i)"
   ]
  },
  {
   "cell_type": "code",
   "execution_count": null,
   "metadata": {},
   "outputs": [],
   "source": [
    "def prepare_submission_one_model(clf, train_df=train_df, test_df=test_df,\n",
    "                                 features=selected_features, target=target):\n",
    "    clf.fit(train_df[features], train_df[target].values.ravel())\n",
    "    preds = clf.predict_proba(test_df[features])[:, 1]\n",
    "    output = pd.DataFrame({'ID': test_df['ID'],\n",
    "                           'Is_Lead': preds})\n",
    "    output.to_csv('submission1.csv', index=False)\n",
    "    print('Prediction file saved. All the Best!')"
   ]
  },
  {
   "cell_type": "code",
   "execution_count": null,
   "metadata": {},
   "outputs": [],
   "source": [
    "def prepare_submission_ensemble(clfs, weights= [], train_df=train, test_df=test,\n",
    "                                features=selected_features, target=target):\n",
    "    if len(clfs) != len(weights):\n",
    "        raise Exception(\"Number of Classifiers and Weights unequal!\")\n",
    "    else:\n",
    "        sum1 = np.array(weights).sum()\n",
    "        preds = np.zeros(test_df.shape[0])\n",
    "        for i, clf in enumerate(clfs):\n",
    "            clf.fit(train_df[features], train_df[target].values.ravel())\n",
    "            preds += clf.predict_proba(test_df[features])[:,1]*weights[i]/sum1\n",
    "        output = pd.DataFrame({'ID': test_df['ID'],\n",
    "                               'Is_Lead': preds})\n",
    "        output.to_csv('submission.csv', index=False)\n",
    "        print('Prediction file saved. All the Best!')"
   ]
  },
  {
   "cell_type": "code",
   "execution_count": null,
   "metadata": {},
   "outputs": [],
   "source": [
    "lgb = LGBMClassifier(metric='auc',\n",
    "                     seed=RANDOM_SEED,\n",
    "                     n_estimators=NUM_BOOSTERS)\n",
    "cb = CatBoostClassifier(verbose=0,\n",
    "                        n_estimators=NUM_BOOSTERS,\n",
    "                        eval_metric='AUC',\n",
    "                        random_seed=RANDOM_SEED,\n",
    "                        cat_features=cat_cols)\n",
    "xgbc = xgb.XGBClassifier()\n",
    "\n"
   ]
  },
  {
   "cell_type": "code",
   "execution_count": null,
   "metadata": {},
   "outputs": [],
   "source": [
    "prepare_submission_ensemble(clfs = [lgb, cb, xgbc],\n",
    "                            weights = \n",
    "[-0.0153715,1.36772336,0.13537971])"
   ]
  },
  {
   "cell_type": "code",
   "execution_count": null,
   "metadata": {},
   "outputs": [],
   "source": [
    "cb = CatBoostClassifier(verbose=0,\n",
    "                         n_estimators=NUM_BOOSTERS,\n",
    "                         eval_metric='AUC',\n",
    "                         random_seed=RANDOM_SEED,\n",
    "                         cat_features=cat_cols)\n",
    "prepare_submission_one_model(clf)"
   ]
  }
 ],
 "metadata": {
  "kernelspec": {
   "display_name": "Python 3",
   "language": "python",
   "name": "python3"
  },
  "language_info": {
   "codemirror_mode": {
    "name": "ipython",
    "version": 3
   },
   "file_extension": ".py",
   "mimetype": "text/x-python",
   "name": "python",
   "nbconvert_exporter": "python",
   "pygments_lexer": "ipython3",
   "version": "3.8.5"
  }
 },
 "nbformat": 4,
 "nbformat_minor": 4
}
